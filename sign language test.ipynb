{
 "cells": [
  {
   "cell_type": "code",
   "execution_count": null,
   "metadata": {},
   "outputs": [],
   "source": [
    "import os\n",
    "from keras.applications.resnet50 import ResNet50, preprocess_input\n",
    "from keras.layers import Dense, Activation, Flatten, Dropout\n",
    "from keras.models import Sequential, Model\n",
    "import tensorflow as tf\n",
    "from keras.optimizers import Adam\n",
    "import cv2\n",
    "import numpy as np\n",
    "from flask import Flask, jsonify, request\n",
    "from flask_cors import CORS, cross_origin\n",
    "import matplotlib.pyplot as plt\n",
    "%matplotlib inline\n",
    "\n",
    "# Running the model using CPU\n",
    "os.environ[\"CUDA_VISIBLE_DEVICES\"]=\"-1\"    "
   ]
  },
  {
   "cell_type": "code",
   "execution_count": null,
   "metadata": {},
   "outputs": [],
   "source": [
    "graph = tf.get_default_graph()\n",
    "\n",
    "fc_layers = [1024, 1024]\n",
    "dropout = 0.5\n",
    "HEIGHT = 300\n",
    "WIDTH = 300\n",
    "\n",
    "base_model = ResNet50(weights= None, \n",
    "                      include_top=False,\n",
    "                      input_shape=(HEIGHT, WIDTH, 3))\n",
    "\n",
    "\n",
    "\n",
    "x = base_model.output\n",
    "x = Flatten()(x)\n",
    "for fc in fc_layers:\n",
    "    x = Dense(fc, activation='relu')(x) \n",
    "    x = Dropout(dropout)(x)\n",
    "\n",
    "predictions = Dense(10, activation='softmax')(x) \n",
    "    \n",
    "finetune_model = Model(inputs=base_model.input, outputs=predictions)\n",
    "\n",
    "    \n",
    "\n",
    "#Load weights\n",
    "finetune_model.load_weights('ResNet50_model_weights.h5')  "
   ]
  },
  {
   "cell_type": "code",
   "execution_count": null,
   "metadata": {},
   "outputs": [],
   "source": [
    "class_list = [\"ana\",\"close\",\"continue\",\"eat\",\"fen\",\"listen\",\"open\",\"short\",\n",
    "              \"tall\",\"watch\"]\n",
    "\n",
    "finetune_model.compile(loss='categorical_crossentropy',\n",
    "              optimizer=Adam(lr=0.1),\n",
    "              metrics=['accuracy'])\n",
    "\n",
    "\n",
    "def predict(img):\n",
    "    img = cv2.resize(img,(300,300))\n",
    "    img = np.reshape(img,[1,300,300,3])\n",
    "    classes = finetune_model.predict(img)[0]\n",
    "    #return class_list[classes.argmax()],classes\n",
    "    return str(classes.argmax())"
   ]
  },
  {
   "cell_type": "code",
   "execution_count": null,
   "metadata": {},
   "outputs": [],
   "source": [
    "app = Flask(__name__)\n",
    "CORS(app)\n",
    "\n",
    "@app.route('/', methods=['POST'])\n",
    "def test():\n",
    "    \n",
    "    \n",
    "    nparr = np.frombuffer(request.data, np.uint8)\n",
    "    img = cv2.imdecode(nparr, cv2.IMREAD_COLOR)\n",
    "    \n",
    "    \n",
    "    with graph.as_default():\n",
    "        prediction = predict(img)\n",
    "    ret = prediction\n",
    "    return ret\n",
    "\n",
    "# running REST interface, port=5000 for direct test\n",
    "if __name__ == \"__main__\":\n",
    "    app.run(debug=False, host='0.0.0.0', port=5000)"
   ]
  }
 ],
 "metadata": {
  "kernelspec": {
   "display_name": "Python 3",
   "language": "python",
   "name": "python3"
  },
  "language_info": {
   "codemirror_mode": {
    "name": "ipython",
    "version": 3
   },
   "file_extension": ".py",
   "mimetype": "text/x-python",
   "name": "python",
   "nbconvert_exporter": "python",
   "pygments_lexer": "ipython3",
   "version": "3.7.3"
  }
 },
 "nbformat": 4,
 "nbformat_minor": 2
}
