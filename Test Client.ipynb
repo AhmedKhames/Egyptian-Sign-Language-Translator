{
 "cells": [
  {
   "cell_type": "code",
   "execution_count": null,
   "metadata": {},
   "outputs": [],
   "source": [
    "from __future__ import print_function\n",
    "import requests\n",
    "import json\n",
    "\n",
    "#URL = 'http://localhost:5000'\n",
    "\n",
    "URL = 'http://0.0.0.0:5000/'\n",
    "\n",
    "headers = {'content-type': 'image/jpeg'}\n",
    "\n",
    "\n",
    "img = open('fen.852.jpg', 'rb').read()\n",
    "\n",
    "response = requests.post(URL, data=img, headers=headers)\n",
    "\n",
    "print(response.text)"
   ]
  },
  {
   "cell_type": "code",
   "execution_count": null,
   "metadata": {},
   "outputs": [],
   "source": []
  }
 ],
 "metadata": {
  "kernelspec": {
   "display_name": "Python 3",
   "language": "python",
   "name": "python3"
  },
  "language_info": {
   "codemirror_mode": {
    "name": "ipython",
    "version": 3
   },
   "file_extension": ".py",
   "mimetype": "text/x-python",
   "name": "python",
   "nbconvert_exporter": "python",
   "pygments_lexer": "ipython3",
   "version": "3.7.3"
  }
 },
 "nbformat": 4,
 "nbformat_minor": 2
}
